{
 "cells": [
  {
   "cell_type": "code",
   "execution_count": 15,
   "metadata": {},
   "outputs": [],
   "source": [
    "import random\n",
    "import Queue\n",
    "import operator\n",
    "import matplotlib.pyplot as plt\n",
    "import networkx as nx\n",
    "import numpy as np\n",
    "\n",
    "N = 220\n",
    "k = 10\n",
    "r = 12\n",
    "S = 684"
   ]
  },
  {
   "cell_type": "code",
   "execution_count": 21,
   "metadata": {},
   "outputs": [],
   "source": [
    "rrg = nx.random_regular_graph(r, N)\n",
    "\n",
    "adjList = [set() for i in range(N)]\n",
    "lmap = {}\n",
    "lcount = {}\n",
    "reverse_lmap = {}\n",
    "server_map = {}\n",
    "for i in range(S):\n",
    "    server_map[i] = random.randint(0, N-1)\n",
    "    \n",
    "lid = 0\n",
    "for e in rrg.edges():\n",
    "    lmap[e] = lid\n",
    "    reverse_lmap[lid] = e\n",
    "    lid += 1\n",
    "    \n",
    "    lmap[(e[1],e[0])] = lid\n",
    "    reverse_lmap[lid] = (e[1], e[0])\n",
    "    lid+=1\n",
    "\n",
    "    adjList[e[0]].add(e[1])\n",
    "    adjList[e[1]].add(e[0])\n",
    "\n",
    "permute_traffic = np.random.permutation(S)"
   ]
  },
  {
   "cell_type": "code",
   "execution_count": 24,
   "metadata": {},
   "outputs": [],
   "source": [
    "for i in lmap:\n",
    "    lcount[lmap[i]] = 0\n",
    "\n",
    "def run_bfs(switch, dst_switch, PATH_COUNT):\n",
    "    visited = [False for i in range(N)]\n",
    "    visited[switch] = True\n",
    "\n",
    "    parents = [[] for i in range(N)]\n",
    "\n",
    "    paths = [[] for i in range(N)]\n",
    "    paths[switch]= [[switch]]\n",
    "\n",
    "    level = {}\n",
    "    level[switch] = 0\n",
    "\n",
    "    q = Queue.Queue()\n",
    "    q.put(switch)\n",
    "\n",
    "    # create bfs\n",
    "    while(q.qsize() > 0):\n",
    "        node = q.get()\n",
    "        level_ = level[node]\n",
    "        for child in adjList[node]:\n",
    "            if visited[child] == False:\n",
    "                q.put(child)\n",
    "                parents[child].append(node)\n",
    "                level[child] = level_+1\n",
    "                visited[child] = True\n",
    "                for n_paths in paths[node]:\n",
    "                    paths[child].append(n_paths + [child])\n",
    "            elif level[child] == level_ + 1: # multiple paths\n",
    "                parents[child].append(node)\n",
    "                for n_paths in paths[node]:\n",
    "                    paths[child].append(n_paths + [child])\n",
    "\n",
    "    for i in range(N):\n",
    "        if i == switch or i != dst_switch:\n",
    "            continue\n",
    "#         assert(set(paths[i]) == {p for p in nx.all_shortest_paths(rrg, switch, dst_switch)})\n",
    "        paths[i] = random.sample(paths[i], min(len(paths[i]), PATH_COUNT))\n",
    "        for path in paths[i]:\n",
    "            for i in range(1, len(path)):\n",
    "                src = path[i-1]\n",
    "                dst = path[i]\n",
    "                assert(rrg.has_edge(src, dst))\n",
    "                lcount[lmap[(src, dst)]] += 1\n",
    "\n",
    "\n",
    "for i in range(S):\n",
    "    run_bfs(server_map[i], server_map[permute_traffic[i]], 8)\n",
    "\n",
    "\n",
    "sorted_lcount = sorted(lcount.items(), key=operator.itemgetter(1))\n",
    "\n",
    "plot_x8 = []\n",
    "plot_y8 = []\n",
    "\n",
    "for i in range(len(sorted_lcount)):\n",
    "    plot_x8.append(i+1)\n",
    "    plot_y8.append(sorted_lcount[i][1])"
   ]
  },
  {
   "cell_type": "code",
   "execution_count": 27,
   "metadata": {},
   "outputs": [
    {
     "ename": "ImportError",
     "evalue": "cannot import name 'get_results'",
     "output_type": "error",
     "traceback": [
      "\u001b[0;31m---------------------------------------------------------------------------\u001b[0m",
      "\u001b[0;31mImportError\u001b[0m                               Traceback (most recent call last)",
      "\u001b[0;32m<ipython-input-27-9f150042e8bf>\u001b[0m in \u001b[0;36m<module>\u001b[0;34m()\u001b[0m\n\u001b[0;32m----> 1\u001b[0;31m \u001b[0;32mfrom\u001b[0m \u001b[0meightshortestpaths\u001b[0m \u001b[0;32mimport\u001b[0m \u001b[0mget_results\u001b[0m\u001b[0;34m\u001b[0m\u001b[0m\n\u001b[0m\u001b[1;32m      2\u001b[0m \u001b[0mx\u001b[0m\u001b[0;34m,\u001b[0m\u001b[0my\u001b[0m \u001b[0;34m=\u001b[0m \u001b[0mget_results\u001b[0m\u001b[0;34m(\u001b[0m\u001b[0;34m)\u001b[0m\u001b[0;34m\u001b[0m\u001b[0m\n",
      "\u001b[0;31mImportError\u001b[0m: cannot import name 'get_results'"
     ]
    }
   ],
   "source": [
    "from eightshortestpaths import get_results\n",
    "x,y = get_results()"
   ]
  },
  {
   "cell_type": "code",
   "execution_count": 25,
   "metadata": {},
   "outputs": [
    {
     "data": {
      "image/png": "[encoded data removed]",
      "text/plain": [
       "<matplotlib.figure.Figure at 0x7f2546b8cc90>"
      ]
     },
     "metadata": {},
     "output_type": "display_data"
    }
   ],
   "source": [
    "for i in lmap:\n",
    "    lcount[lmap[i]] = 0\n",
    "\n",
    "for i in range(S):\n",
    "    run_bfs(server_map[i], server_map[permute_traffic[i], 64)\n",
    "\n",
    "\n",
    "sorted_lcount = sorted(lcount.items(), key=operator.itemgetter(1))\n",
    "# for i in sorted_lcount:\n",
    "#     print i[1], reverse_lmap[i[0]]\n",
    "\n",
    "plot_x64 = []\n",
    "plot_y64 = []\n",
    "\n",
    "for i in range(len(sorted_lcount)):\n",
    "    plot_x64.append(i+1)\n",
    "    plot_y64.append(sorted_lcount[i][1])\n",
    "\n",
    "# plt.plot(x, y, ls='solid', drawstyle='steps-post', label='8 shortest', color='blue')\n",
    "plt.plot(plot_x8, plot_y8, ls='solid', drawstyle='steps-post', label='ECMP 8', color='red')\n",
    "plt.plot(plot_x64, plot_y64, ls='solid', drawstyle='steps-post', label='ECMP 64', color='green')\n",
    "plt.legend(loc='upper left', ncol=2, mode=\"shrink\", shadow=True, fancybox=True)\n",
    "plt.xlabel('Rank of the link')\n",
    "plt.ylabel('# Number of distincts paths the link is on')\n",
    "plt.savefig('fig%d.png'%(N,), bbox_inches='tight')\n",
    "plt.show()"
   ]
  },
  {
   "cell_type": "code",
   "execution_count": null,
   "metadata": {},
   "outputs": [],
   "source": []
  }
 ],
 "metadata": {
  "kernelspec": {
   "display_name": "Python 2",
   "language": "python",
   "name": "python2"
  },
  "language_info": {
   "codemirror_mode": {
    "name": "ipython",
    "version": 2
   },
   "file_extension": ".py",
   "mimetype": "text/x-python",
   "name": "python",
   "nbconvert_exporter": "python",
   "pygments_lexer": "ipython2",
   "version": "2.7.6"
  }
 },
 "nbformat": 4,
 "nbformat_minor": 2
}
