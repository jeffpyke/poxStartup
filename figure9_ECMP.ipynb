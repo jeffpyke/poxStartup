{
 "cells": [
  {
   "cell_type": "code",
   "execution_count": 78,
   "metadata": {},
   "outputs": [
    {
     "name": "stdout",
     "output_type": "stream",
     "text": [
      "1198\n",
      "1196\n",
      "1190\n",
      "1192\n",
      "1200\n"
     ]
    }
   ],
   "source": [
    "import random\n",
    "import Queue\n",
    "import operator\n",
    "import matplotlib.pyplot as plt\n",
    "\n",
    "N = 100\n",
    "k = 10\n",
    "r = 12\n",
    "\n",
    "random.seed()\n",
    "\n",
    "adjList = [set() for i in range(N)]\n",
    "lmap = {}\n",
    "lcount = {}\n",
    "\n",
    "def generateRRG():\n",
    "    freePorts = N*r\n",
    "    lid = 0\n",
    "    iter = 0\n",
    "    while(freePorts > 1 and iter < 5*N*r):\n",
    "        iter += 1\n",
    "        available = [i for i in range(N) if len(adjList) != r]\n",
    "        tup = random.sample(available, 2)\n",
    "        s1 = tup[0]\n",
    "        s2 = tup[1]\n",
    "        # print s1, s2, freePorts, iter\n",
    "\n",
    "        # check for present link or unavailable free ports\n",
    "        if(s1 == s2):\n",
    "            continue\n",
    "        if(s1 in adjList[s2]):\n",
    "            continue\n",
    "        if(len(adjList[s1]) == r or len(adjList[s2]) == r):\n",
    "            continue\n",
    "\n",
    "        # Add link\n",
    "        lmap[(s1,s2)] = lid\n",
    "        lid+=1\n",
    "        adjList[s1].add(s2)\n",
    "        lmap[(s2, s1)] = lid\n",
    "        adjList[s2].add(s1)\n",
    "        lid+=1\n",
    "        freePorts = freePorts - 2\n",
    "\n",
    "# fills the adjlist\n",
    "generateRRG()\n",
    "k = [len(i) for i in adjList]\n",
    "k_ = sum(k)\n",
    "print k_\n",
    "while(k_ < N*r-1):\n",
    "    adjList = [set() for i in range(N)]\n",
    "    lmap = {}\n",
    "    generateRRG()\n",
    "    k = [len(i) for i in adjList]\n",
    "    k_ = sum(k)\n",
    "    print k_\n",
    "\n",
    "reverse_lmap = {}\n",
    "for i in lmap:\n",
    "    reverse_lmap[lmap[i]] = i"
   ]
  },
  {
   "cell_type": "code",
   "execution_count": 79,
   "metadata": {},
   "outputs": [],
   "source": [
    "for i in lmap:\n",
    "    lcount[lmap[i]] = 0\n",
    "\n",
    "def run_bfs(switch, PATH_COUNT):\n",
    "    visited = [False for i in range(N)]\n",
    "    visited[switch] = True\n",
    "\n",
    "    parents = [[] for i in range(N)]\n",
    "\n",
    "    paths = [[] for i in range(N)]\n",
    "    paths[switch]= [[switch]]\n",
    "\n",
    "    level = {}\n",
    "    level[switch] = 0\n",
    "\n",
    "    q = Queue.Queue()\n",
    "    q.put(switch)\n",
    "\n",
    "    # create bfs\n",
    "    while(q.qsize() > 0):\n",
    "        node = q.get()\n",
    "        level_ = level[node]\n",
    "        for child in adjList[node]:\n",
    "            if visited[child] == False:\n",
    "                q.put(child)\n",
    "                parents[child].append(node)\n",
    "                level[child] = level_+1\n",
    "                visited[child] = True\n",
    "                for n_paths in paths[node]:\n",
    "                    paths[child].append(n_paths + [child])\n",
    "            elif level[child] == level_ + 1: # multiple paths\n",
    "                parents[child].append(node)\n",
    "                for n_paths in paths[node]:\n",
    "                    paths[child].append(n_paths + [child])\n",
    "\n",
    "    for i in range(N):\n",
    "        # print i, parents[i], paths[i]\n",
    "        if i == switch:\n",
    "            continue\n",
    "        # select paths randomly for the ECMP routing\n",
    "        paths[i] = random.sample(paths[i], min(len(paths[i]), PATH_COUNT))\n",
    "        for path in paths[i]:\n",
    "            for i in range(1, len(path)):\n",
    "                src = path[i-1]\n",
    "                dst = path[i]\n",
    "                lcount[lmap[(src, dst)]] += 1\n",
    "\n",
    "\n",
    "for i in range(N):\n",
    "    # print \"RUNNING:\", i\n",
    "    run_bfs(i, 8)\n",
    "\n",
    "\n",
    "sorted_lcount = sorted(lcount.items(), key=operator.itemgetter(1))\n",
    "# for i in sorted_lcount:\n",
    "#     print i[1], reverse_lmap[i[0]]\n",
    "\n",
    "plot_x8 = []\n",
    "plot_y8 = []\n",
    "\n",
    "for i in range(len(sorted_lcount)):\n",
    "    plot_x8.append(i+1)\n",
    "    plot_y8.append(sorted_lcount[i][1])"
   ]
  },
  {
   "cell_type": "code",
   "execution_count": 80,
   "metadata": {},
   "outputs": [
    {
     "data": {
      "image/png": "[encoded data removed]",
      "text/plain": [
       "<matplotlib.figure.Figure at 0x7f3c50c3d2d0>"
      ]
     },
     "metadata": {},
     "output_type": "display_data"
    }
   ],
   "source": [
    "for i in lmap:\n",
    "    lcount[lmap[i]] = 0\n",
    "\n",
    "for i in range(N):\n",
    "    run_bfs(i, 64)\n",
    "\n",
    "\n",
    "sorted_lcount = sorted(lcount.items(), key=operator.itemgetter(1))\n",
    "# for i in sorted_lcount:\n",
    "#     print i[1], reverse_lmap[i[0]]\n",
    "\n",
    "plot_x64 = []\n",
    "plot_y64 = []\n",
    "\n",
    "for i in range(len(sorted_lcount)):\n",
    "    plot_x64.append(i+1)\n",
    "    plot_y64.append(sorted_lcount[i][1])\n",
    "\n",
    "plt.plot(plot_x8, plot_y8, ls='solid', drawstyle='steps-post', label='ECMP 8', color='red')\n",
    "plt.plot(plot_x64, plot_y64, ls='solid', drawstyle='steps-post', label='ECMP 64', color='green')\n",
    "plt.legend(loc='upper left', ncol=2, mode=\"shrink\", shadow=True, fancybox=True)\n",
    "plt.xlabel('Rank of the link')\n",
    "plt.ylabel('# Number of distinct paths the link is on')\n",
    "plt.savefig('fig%d.png'%(N,), bbox_inches='tight')\n",
    "plt.show()"
   ]
  },
  {
   "cell_type": "code",
   "execution_count": 35,
   "metadata": {},
   "outputs": [
    {
     "name": "stdout",
     "output_type": "stream",
     "text": [
      "480\n"
     ]
    }
   ],
   "source": [
    "print len(lmap)"
   ]
  },
  {
   "cell_type": "code",
   "execution_count": null,
   "metadata": {},
   "outputs": [],
   "source": []
  }
 ],
 "metadata": {
  "kernelspec": {
   "display_name": "Python 2",
   "language": "python",
   "name": "python2"
  },
  "language_info": {
   "codemirror_mode": {
    "name": "ipython",
    "version": 2
   },
   "file_extension": ".py",
   "mimetype": "text/x-python",
   "name": "python",
   "nbconvert_exporter": "python",
   "pygments_lexer": "ipython2",
   "version": "2.7.6"
  }
 },
 "nbformat": 4,
 "nbformat_minor": 2
}
